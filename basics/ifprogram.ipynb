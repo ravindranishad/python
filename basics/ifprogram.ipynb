{
 "cells": [
  {
   "cell_type": "code",
   "execution_count": null,
   "metadata": {},
   "outputs": [],
   "source": [
    "x= int(input(\"enter a number between 1 to 12\"))\n",
    "\n",
    "if(x==1):\n",
    "     print('january')\n",
    "elif(x==2):\n",
    "    print(\"february\")\n",
    "elif(x==3):\n",
    "    print(\"march\")\n",
    "elif(x==4):\n",
    "    printf(\"april\")\n",
    "elif(x==5):\n",
    "    print(\"may\")\n",
    "elif(x==6):\n",
    "    print(\"\")"
   ]
  }
 ],
 "metadata": {
  "interpreter": {
   "hash": "5b6002d1e928962cd19dde4287e8a81266a3dfa22c12012df96bb19a6e27b9c0"
  },
  "kernelspec": {
   "display_name": "Python 3.9.12 ('base')",
   "language": "python",
   "name": "python3"
  },
  "language_info": {
   "name": "python",
   "version": "3.9.12"
  },
  "orig_nbformat": 4
 },
 "nbformat": 4,
 "nbformat_minor": 2
}
